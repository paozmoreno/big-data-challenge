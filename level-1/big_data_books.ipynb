{
  "nbformat": 4,
  "nbformat_minor": 0,
  "metadata": {
    "colab": {
      "provenance": [],
      "collapsed_sections": []
    },
    "kernelspec": {
      "name": "python3",
      "display_name": "Python 3"
    },
    "language_info": {
      "name": "python"
    }
  },
  "cells": [
    {
      "cell_type": "code",
      "execution_count": 59,
      "metadata": {
        "colab": {
          "base_uri": "https://localhost:8080/"
        },
        "id": "CMNw17TmBLuS",
        "outputId": "f72f9eaf-25d2-462f-d15c-550f708449f7"
      },
      "outputs": [
        {
          "output_type": "stream",
          "name": "stdout",
          "text": [
            "Hit:1 https://cloud.r-project.org/bin/linux/ubuntu bionic-cran40/ InRelease\n",
            "Get:2 http://security.ubuntu.com/ubuntu bionic-security InRelease [88.7 kB]\n",
            "Ign:3 https://developer.download.nvidia.com/compute/machine-learning/repos/ubuntu1804/x86_64  InRelease\n",
            "Hit:4 https://developer.download.nvidia.com/compute/cuda/repos/ubuntu1804/x86_64  InRelease\n",
            "Hit:5 https://developer.download.nvidia.com/compute/machine-learning/repos/ubuntu1804/x86_64  Release\n",
            "Hit:6 http://ppa.launchpad.net/c2d4u.team/c2d4u4.0+/ubuntu bionic InRelease\n",
            "Hit:7 http://archive.ubuntu.com/ubuntu bionic InRelease\n",
            "Get:9 http://archive.ubuntu.com/ubuntu bionic-updates InRelease [88.7 kB]\n",
            "Hit:10 http://ppa.launchpad.net/cran/libgit2/ubuntu bionic InRelease\n",
            "Hit:11 http://ppa.launchpad.net/deadsnakes/ppa/ubuntu bionic InRelease\n",
            "Get:12 http://archive.ubuntu.com/ubuntu bionic-backports InRelease [83.3 kB]\n",
            "Hit:13 http://ppa.launchpad.net/graphics-drivers/ppa/ubuntu bionic InRelease\n",
            "Fetched 261 kB in 3s (99.7 kB/s)\n",
            "Reading package lists... Done\n"
          ]
        }
      ],
      "source": [
        "import os\n",
        "\n",
        "spark_version = 'spark-3.3.0'\n",
        "os.environ['SPARK_VERSION']=spark_version\n",
        "\n",
        "# Install Spark and Java\n",
        "!apt-get update\n",
        "!apt-get install openjdk-8-jdk-headless -qq > /dev/null\n",
        "!wget -q http://www.apache.org/dist/spark/$SPARK_VERSION/$SPARK_VERSION-bin-hadoop3.tgz\n",
        "!tar xf $SPARK_VERSION-bin-hadoop3.tgz\n",
        "!pip install -q findspark\n",
        "\n",
        "# Set Environment Variables\n",
        "os.environ[\"JAVA_HOME\"] = \"/usr/lib/jvm/java-8-openjdk-amd64\"\n",
        "os.environ[\"SPARK_HOME\"] = f\"/content/{spark_version}-bin-hadoop3\"\n",
        "\n",
        "# Start a SparkSession\n",
        "import findspark\n",
        "findspark.init()\n"
      ]
    },
    {
      "cell_type": "code",
      "source": [
        "!wget https://jdbc.postgresql.org/download/postgresql-42.2.9.jar\n"
      ],
      "metadata": {
        "id": "OZCk10fxCcnt",
        "colab": {
          "base_uri": "https://localhost:8080/"
        },
        "outputId": "56d4a133-24d0-4152-a71c-dbbcf25b2b23"
      },
      "execution_count": 60,
      "outputs": [
        {
          "output_type": "stream",
          "name": "stdout",
          "text": [
            "--2022-09-29 19:48:40--  https://jdbc.postgresql.org/download/postgresql-42.2.9.jar\n",
            "Resolving jdbc.postgresql.org (jdbc.postgresql.org)... 72.32.157.228, 2001:4800:3e1:1::228\n",
            "Connecting to jdbc.postgresql.org (jdbc.postgresql.org)|72.32.157.228|:443... connected.\n",
            "HTTP request sent, awaiting response... 200 OK\n",
            "Length: 914037 (893K) [application/java-archive]\n",
            "Saving to: ‘postgresql-42.2.9.jar.2’\n",
            "\n",
            "postgresql-42.2.9.j 100%[===================>] 892.61K  1.26MB/s    in 0.7s    \n",
            "\n",
            "2022-09-29 19:48:42 (1.26 MB/s) - ‘postgresql-42.2.9.jar.2’ saved [914037/914037]\n",
            "\n"
          ]
        }
      ]
    },
    {
      "cell_type": "code",
      "source": [
        "from pyspark.sql import SparkSession\n",
        "spark = SparkSession.builder.appName(\"CloudETL\").config(\"spark.driver.extraClassPath\",\"/content/postgresql-42.2.9.jar\").getOrCreate()"
      ],
      "metadata": {
        "id": "6PT5dxfRCclJ"
      },
      "execution_count": 61,
      "outputs": []
    },
    {
      "cell_type": "code",
      "source": [
        "# Read in data from S3 Buckets\n",
        "from pyspark import SparkFiles\n",
        "url = \"https://s3.amazonaws.com/amazon-reviews-pds/tsv/amazon_reviews_us_Books_v1_02.tsv.gz\"\n",
        "spark.sparkContext.addFile(url)\n",
        "\n",
        "books_df = spark.read.option('header', 'true').csv(SparkFiles.get(\"amazon_reviews_us_Books_v1_02.tsv.gz\"), inferSchema=True, sep='\\t', timestampFormat=\"yyyy-mm-dd\")\n",
        "books_df.show()"
      ],
      "metadata": {
        "id": "SBLg7ulDCcih",
        "colab": {
          "base_uri": "https://localhost:8080/"
        },
        "outputId": "30e0b4b3-70e7-439a-bd63-8ced39640c14"
      },
      "execution_count": 62,
      "outputs": [
        {
          "output_type": "stream",
          "name": "stdout",
          "text": [
            "+-----------+-----------+--------------+----------+--------------+--------------------+----------------+-----------+-------------+-----------+----+-----------------+--------------------+--------------------+-------------------+\n",
            "|marketplace|customer_id|     review_id|product_id|product_parent|       product_title|product_category|star_rating|helpful_votes|total_votes|vine|verified_purchase|     review_headline|         review_body|        review_date|\n",
            "+-----------+-----------+--------------+----------+--------------+--------------------+----------------+-----------+-------------+-----------+----+-----------------+--------------------+--------------------+-------------------+\n",
            "|         US|   12076615| RQ58W7SMO911M|0385730586|     122662979|Sisterhood of the...|           Books|          4|            2|          3|   N|                N|this book was a g...|this boook was a ...|2005-01-14 00:10:00|\n",
            "|         US|   12703090|  RF6IUKMGL8SF|0811828964|      56191234|The Bad Girl's Gu...|           Books|          3|            5|          5|   N|                N|           Fun Fluff|If you are lookin...|2005-01-14 00:10:00|\n",
            "|         US|   12257412|R1DOSHH6AI622S|1844161560|     253182049|Eisenhorn (A Warh...|           Books|          4|            1|         22|   N|                N| this isn't a review|never read it-a y...|2005-01-14 00:10:00|\n",
            "|         US|   50732546| RATOTLA3OF70O|0373836635|     348672532|Colby Conspiracy ...|           Books|          5|            2|          2|   N|                N|fine author on he...|Though she is hon...|2005-01-14 00:10:00|\n",
            "|         US|   51964897|R1TNWRKIVHVYOV|0262181533|     598678717|The Psychology of...|           Books|          4|            0|          2|   N|                N|Execellent cursor...|Review based on a...|2005-01-14 00:10:00|\n",
            "|         US|   31048862|R2F53LI9KK9MOY|0316769487|     862964341|The Catcher in th...|           Books|          4|            2|          2|   N|                N|   Interesting, fun.|My only complaint...|2005-01-14 00:10:00|\n",
            "|         US|   53000124|R1KJ6MB7MRSQFF|0805076069|     145341889|Bait and Switch: ...|           Books|          4|            9|         11|   N|                N|I viewed this the...|This book is chil...|2005-01-14 00:10:00|\n",
            "|         US|   29732693|R2XIM9LT335WHE|1581603681|     640542054|Opening Combinati...|           Books|          4|            3|         10|   N|                N|No Frills - Just ...|When looking for ...|2005-01-14 00:10:00|\n",
            "|         US|   48541186|R1VE0FQQ0QTQJN|0300108834|     915891133|A Little History ...|           Books|          5|           16|         20|   N|                Y|Simple, entertain...|Never been much f...|2005-01-14 00:10:00|\n",
            "|         US|   15280864|R1VKEE2NWSWDRU|0446531081|     880645124|Hour Game (King &...|           Books|          4|            0|          0|   N|                N|        A good read!|If you enjoy a we...|2005-01-14 00:10:00|\n",
            "|         US|   24209213|R2UP6XSVYJBJ2H|0976822105|     731931430|     Faith is a Verb|           Books|          5|            0|          0|   N|                N|Made me Question ...|I thoroughly enjo...|2005-01-14 00:10:00|\n",
            "|         US|   52253037|R21SYDQ70ILUC0|1580085695|     586052746|Furry Logic: A Gu...|           Books|          5|            1|          1|   N|                Y|    The Perfect Gift|If you are stumpe...|2005-01-14 00:10:00|\n",
            "|         US|   27925116| R7M06Z88PD7SX|0029148510|      72387289|Acts of War: Beha...|           Books|          4|           14|         14|   N|                N|Solid Book About ...|Whether intention...|2005-01-14 00:10:00|\n",
            "|         US|   15005044| RRS38KZ4WB5O2|1592285570|     702385650|Temple to the Win...|           Books|          5|            1|          1|   N|                N|A riveting accoun...|Temple to the win...|2005-01-14 00:10:00|\n",
            "|         US|   52534781|R2YDYRSLGNHPHR|0811848833|     102333549|The Star Wars Pos...|           Books|          4|           16|         19|   N|                Y|Comprehensive vis...|At last... a comp...|2005-01-14 00:10:00|\n",
            "|         US|   26217071|R1BMPM18O6VZOR|0782144276|     971452783|Photoshop for Nat...|           Books|          4|           13|         14|   N|                N|          Great Book|I find \\\\\"Photosh...|2005-01-14 00:10:00|\n",
            "|         US|   37684582|R1AABFZH0J0C0C|0375757996|     760991156|The Basic Works o...|           Books|          3|           17|         35|   N|                N|Problems with thi...|I love Aristotle ...|2005-01-14 00:10:00|\n",
            "|         US|   45232107|R3SJYLG07EHNE9|013146308X|     332774292|The Pterosaurs: F...|           Books|          2|           16|         34|   N|                N|Warmed over lefto...|To his discredit,...|2005-01-14 00:10:00|\n",
            "|         US|   15437121|R2TIO43ND87XVO|0375701907|     635714194|Straight Man: A N...|           Books|          5|            1|          1|   N|                N|       Funniest Book|Hands down, the f...|2005-01-14 00:10:00|\n",
            "|         US|   52157117|R18TY4WD19OUAO|141378240X|     656010659|   Lipstick's Legacy|           Books|          5|            1|          1|   N|                N|          Great Work|I read this book ...|2005-01-14 00:10:00|\n",
            "+-----------+-----------+--------------+----------+--------------+--------------------+----------------+-----------+-------------+-----------+----+-----------------+--------------------+--------------------+-------------------+\n",
            "only showing top 20 rows\n",
            "\n"
          ]
        }
      ]
    },
    {
      "cell_type": "code",
      "source": [
        "# Count number of records\n",
        "books_df.count()"
      ],
      "metadata": {
        "colab": {
          "base_uri": "https://localhost:8080/"
        },
        "id": "vMmT_vbnF6rg",
        "outputId": "23f1004d-cdb4-4a40-ea28-bf01bd05d5a1"
      },
      "execution_count": 63,
      "outputs": [
        {
          "output_type": "execute_result",
          "data": {
            "text/plain": [
              "3105520"
            ]
          },
          "metadata": {},
          "execution_count": 63
        }
      ]
    },
    {
      "cell_type": "code",
      "source": [
        "# Drop null values and count new total records\n",
        "books_df = df.dropna()\n",
        "books_df.count()"
      ],
      "metadata": {
        "colab": {
          "base_uri": "https://localhost:8080/"
        },
        "id": "9cqv_GhcJ-_K",
        "outputId": "47512c44-e892-464b-8c63-7b9524598b60"
      },
      "execution_count": 64,
      "outputs": [
        {
          "output_type": "execute_result",
          "data": {
            "text/plain": [
              "2794293"
            ]
          },
          "metadata": {},
          "execution_count": 64
        }
      ]
    },
    {
      "cell_type": "code",
      "source": [
        "# Print schema\n",
        "books_df.printSchema()"
      ],
      "metadata": {
        "colab": {
          "base_uri": "https://localhost:8080/"
        },
        "id": "L8-RgVYKJ-89",
        "outputId": "d5231372-b64f-4f9d-9d6e-5af662970e5c"
      },
      "execution_count": 65,
      "outputs": [
        {
          "output_type": "stream",
          "name": "stdout",
          "text": [
            "root\n",
            " |-- marketplace: string (nullable = true)\n",
            " |-- customer_id: integer (nullable = true)\n",
            " |-- review_id: string (nullable = true)\n",
            " |-- product_id: integer (nullable = true)\n",
            " |-- product_parent: integer (nullable = true)\n",
            " |-- product_title: string (nullable = true)\n",
            " |-- product_category: string (nullable = true)\n",
            " |-- star_rating: integer (nullable = true)\n",
            " |-- helpful_votes: integer (nullable = true)\n",
            " |-- total_votes: integer (nullable = true)\n",
            " |-- vine: string (nullable = true)\n",
            " |-- verified_purchase: string (nullable = true)\n",
            " |-- review_headline: string (nullable = true)\n",
            " |-- review_body: string (nullable = true)\n",
            " |-- review_date: timestamp (nullable = true)\n",
            "\n"
          ]
        }
      ]
    },
    {
      "cell_type": "code",
      "source": [
        "# Changing datatypes\n",
        "\n",
        "from pyspark.sql.types import StringType\n",
        "\n",
        "books_df = df.withColumn(\"product_id\", df[\"star_rating\"].cast(StringType()))\\\n",
        "\n",
        "\n",
        "# Print schema\n",
        "books_df.printSchema()"
      ],
      "metadata": {
        "colab": {
          "base_uri": "https://localhost:8080/"
        },
        "id": "dVCr9aYax9JT",
        "outputId": "43652d50-553a-4f7d-f24f-2d078468519d"
      },
      "execution_count": 69,
      "outputs": [
        {
          "output_type": "stream",
          "name": "stdout",
          "text": [
            "root\n",
            " |-- marketplace: string (nullable = true)\n",
            " |-- customer_id: integer (nullable = true)\n",
            " |-- review_id: string (nullable = true)\n",
            " |-- product_id: string (nullable = true)\n",
            " |-- product_parent: integer (nullable = true)\n",
            " |-- product_title: string (nullable = true)\n",
            " |-- product_category: string (nullable = true)\n",
            " |-- star_rating: integer (nullable = true)\n",
            " |-- helpful_votes: integer (nullable = true)\n",
            " |-- total_votes: integer (nullable = true)\n",
            " |-- vine: string (nullable = true)\n",
            " |-- verified_purchase: string (nullable = true)\n",
            " |-- review_headline: string (nullable = true)\n",
            " |-- review_body: string (nullable = true)\n",
            " |-- review_date: timestamp (nullable = true)\n",
            "\n"
          ]
        }
      ]
    },
    {
      "cell_type": "code",
      "source": [
        "# Create review dataframe to match review_id_table table\n",
        "review_id_df = df.select([\"review_id\",\"customer_id\",\"product_id\", \"product_parent\",\"review_date\"])\n",
        "review_id_df.show()"
      ],
      "metadata": {
        "colab": {
          "base_uri": "https://localhost:8080/"
        },
        "id": "mXRcjBQ2F6m-",
        "outputId": "dfb63b6c-c265-40da-a49e-719474770ad8"
      },
      "execution_count": 70,
      "outputs": [
        {
          "output_type": "stream",
          "name": "stdout",
          "text": [
            "+--------------+-----------+----------+--------------+-------------------+\n",
            "|     review_id|customer_id|product_id|product_parent|        review_date|\n",
            "+--------------+-----------+----------+--------------+-------------------+\n",
            "| RQ58W7SMO911M|   12076615| 385730586|     122662979|2005-01-14 00:10:00|\n",
            "|  RF6IUKMGL8SF|   12703090| 811828964|      56191234|2005-01-14 00:10:00|\n",
            "|R1DOSHH6AI622S|   12257412|1844161560|     253182049|2005-01-14 00:10:00|\n",
            "| RATOTLA3OF70O|   50732546| 373836635|     348672532|2005-01-14 00:10:00|\n",
            "|R1TNWRKIVHVYOV|   51964897| 262181533|     598678717|2005-01-14 00:10:00|\n",
            "|R2F53LI9KK9MOY|   31048862| 316769487|     862964341|2005-01-14 00:10:00|\n",
            "|R1KJ6MB7MRSQFF|   53000124| 805076069|     145341889|2005-01-14 00:10:00|\n",
            "|R2XIM9LT335WHE|   29732693|1581603681|     640542054|2005-01-14 00:10:00|\n",
            "|R1VE0FQQ0QTQJN|   48541186| 300108834|     915891133|2005-01-14 00:10:00|\n",
            "|R1VKEE2NWSWDRU|   15280864| 446531081|     880645124|2005-01-14 00:10:00|\n",
            "|R2UP6XSVYJBJ2H|   24209213| 976822105|     731931430|2005-01-14 00:10:00|\n",
            "|R21SYDQ70ILUC0|   52253037|1580085695|     586052746|2005-01-14 00:10:00|\n",
            "| R7M06Z88PD7SX|   27925116|  29148510|      72387289|2005-01-14 00:10:00|\n",
            "| RRS38KZ4WB5O2|   15005044|1592285570|     702385650|2005-01-14 00:10:00|\n",
            "|R2YDYRSLGNHPHR|   52534781| 811848833|     102333549|2005-01-14 00:10:00|\n",
            "|R1BMPM18O6VZOR|   26217071| 782144276|     971452783|2005-01-14 00:10:00|\n",
            "|R1AABFZH0J0C0C|   37684582| 375757996|     760991156|2005-01-14 00:10:00|\n",
            "|R2TIO43ND87XVO|   15437121| 375701907|     635714194|2005-01-14 00:10:00|\n",
            "|R3CFYTUA9JI8B5|   15865974| 814470734|     867819017|2005-01-14 00:10:00|\n",
            "|R3MD5TZJGIPTDU|   13503149|1585424307|     915155182|2005-01-14 00:10:00|\n",
            "+--------------+-----------+----------+--------------+-------------------+\n",
            "only showing top 20 rows\n",
            "\n"
          ]
        }
      ]
    },
    {
      "cell_type": "code",
      "source": [
        "# Print schema\n",
        "review_id_df.printSchema()"
      ],
      "metadata": {
        "colab": {
          "base_uri": "https://localhost:8080/"
        },
        "id": "yvMo217wF6hg",
        "outputId": "dbfb778b-2ea2-4b64-9307-df6bc6ff3e44"
      },
      "execution_count": 71,
      "outputs": [
        {
          "output_type": "stream",
          "name": "stdout",
          "text": [
            "root\n",
            " |-- review_id: string (nullable = true)\n",
            " |-- customer_id: integer (nullable = true)\n",
            " |-- product_id: integer (nullable = true)\n",
            " |-- product_parent: integer (nullable = true)\n",
            " |-- review_date: timestamp (nullable = true)\n",
            "\n"
          ]
        }
      ]
    },
    {
      "cell_type": "code",
      "source": [
        "# Create product dataframe to match products table(only unique values)\n",
        "from pyspark.sql.functions import asc\n",
        "products_df = df.select([\"product_id\",\"product_title\"])\n",
        "products_df = products_df.dropDuplicates()\n",
        "products_df = products_df.orderBy(asc(\"product_id\"))\n",
        "products_df.show()"
      ],
      "metadata": {
        "colab": {
          "base_uri": "https://localhost:8080/"
        },
        "id": "uOmfpwAqIMIZ",
        "outputId": "eaa1d2f8-5f5a-4d90-93d1-fbe35b51b40a"
      },
      "execution_count": 72,
      "outputs": [
        {
          "output_type": "stream",
          "name": "stdout",
          "text": [
            "+----------+--------------------+\n",
            "|product_id|       product_title|\n",
            "+----------+--------------------+\n",
            "|        78|Conversations wit...|\n",
            "|       116|Georgina Goodman ...|\n",
            "|       868|Foot Rot of Piper...|\n",
            "|     20214|Connoisseur's Han...|\n",
            "|     24341|Groundwork of Eva...|\n",
            "|     42382|      Other Shepards|\n",
            "|    913154|The Way Things Wo...|\n",
            "|   1006002|    The Rescue Party|\n",
            "|   1018043| The Enchanted Horse|\n",
            "|   1035649|Under Milk Wood: ...|\n",
            "|   1046535|   As the Crow Flies|\n",
            "|   1046810|Tess of the D'Urb...|\n",
            "|   1047868|Kidnapped (Harper...|\n",
            "|   1050818|Star Wars: The Tr...|\n",
            "|   1052020|            Lord Jim|\n",
            "|   1052942|      Yellow Admiral|\n",
            "|   1053310|        Hms Surprise|\n",
            "|   1053396|War Poems: An Ant...|\n",
            "|   1053736|Sir Gawain and th...|\n",
            "|   1053744| Pearl and Sir Orfeo|\n",
            "+----------+--------------------+\n",
            "only showing top 20 rows\n",
            "\n"
          ]
        }
      ]
    },
    {
      "cell_type": "code",
      "source": [
        "# Create customer dataframe to match customers table\n",
        "from pyspark.sql.functions import desc\n",
        "\n",
        "customers_df = df.groupby(\"customer_id\").agg({\"customer_id\":\"count\"})\n",
        "customers_df = customers_df.orderBy(desc(\"count(customer_id)\"))\n",
        "customers_df = customers_df.withColumnRenamed(\"count(customer_id)\", \"customer_count\") \n",
        "customers_df.show()"
      ],
      "metadata": {
        "colab": {
          "base_uri": "https://localhost:8080/"
        },
        "id": "P84lEUzuIMFk",
        "outputId": "0cd263c9-2b88-427a-d3b5-811ac5b4fcce"
      },
      "execution_count": 73,
      "outputs": [
        {
          "output_type": "stream",
          "name": "stdout",
          "text": [
            "+-----------+--------------+\n",
            "|customer_id|customer_count|\n",
            "+-----------+--------------+\n",
            "|   50122160|         19923|\n",
            "|   50732546|          9126|\n",
            "|   52615377|          2379|\n",
            "|   45041039|          2034|\n",
            "|   50776149|          1642|\n",
            "|   50913245|          1559|\n",
            "|   45273033|          1457|\n",
            "|   20595117|          1374|\n",
            "|   39569598|          1263|\n",
            "|   49693975|          1262|\n",
            "|   36642996|          1203|\n",
            "|   38491967|          1196|\n",
            "|   50881246|          1152|\n",
            "|   52254603|          1046|\n",
            "|   49750558|           946|\n",
            "|   49115690|           946|\n",
            "|   51987970|           945|\n",
            "|   50608834|           919|\n",
            "|   51147790|           911|\n",
            "|   43546353|           902|\n",
            "+-----------+--------------+\n",
            "only showing top 20 rows\n",
            "\n"
          ]
        }
      ]
    },
    {
      "cell_type": "code",
      "source": [
        "# Create vine dataframe to match vine_table table\n",
        "\n",
        "from pyspark.sql.functions import col\n",
        "\n",
        "vine_table_df = df.select([\"review_id\",\"star_rating\",\"helpful_votes\", \"total_votes\",\"vine\"])\n",
        "\n",
        "# # Filter for only columns from Amazon's Vine program\n",
        "# vine_table_df = vine_table_df.filter(col(\"vine\")  == \"Y\")\n",
        "vine_table_df.show() "
      ],
      "metadata": {
        "colab": {
          "base_uri": "https://localhost:8080/"
        },
        "id": "fWNrxsYNIMC3",
        "outputId": "c48d90f8-1a31-4adb-92d4-89d4b4c90e7d"
      },
      "execution_count": 74,
      "outputs": [
        {
          "output_type": "stream",
          "name": "stdout",
          "text": [
            "+--------------+-----------+-------------+-----------+----+\n",
            "|     review_id|star_rating|helpful_votes|total_votes|vine|\n",
            "+--------------+-----------+-------------+-----------+----+\n",
            "| RQ58W7SMO911M|          4|            2|          3|   N|\n",
            "|  RF6IUKMGL8SF|          3|            5|          5|   N|\n",
            "|R1DOSHH6AI622S|          4|            1|         22|   N|\n",
            "| RATOTLA3OF70O|          5|            2|          2|   N|\n",
            "|R1TNWRKIVHVYOV|          4|            0|          2|   N|\n",
            "|R2F53LI9KK9MOY|          4|            2|          2|   N|\n",
            "|R1KJ6MB7MRSQFF|          4|            9|         11|   N|\n",
            "|R2XIM9LT335WHE|          4|            3|         10|   N|\n",
            "|R1VE0FQQ0QTQJN|          5|           16|         20|   N|\n",
            "|R1VKEE2NWSWDRU|          4|            0|          0|   N|\n",
            "|R2UP6XSVYJBJ2H|          5|            0|          0|   N|\n",
            "|R21SYDQ70ILUC0|          5|            1|          1|   N|\n",
            "| R7M06Z88PD7SX|          4|           14|         14|   N|\n",
            "| RRS38KZ4WB5O2|          5|            1|          1|   N|\n",
            "|R2YDYRSLGNHPHR|          4|           16|         19|   N|\n",
            "|R1BMPM18O6VZOR|          4|           13|         14|   N|\n",
            "|R1AABFZH0J0C0C|          3|           17|         35|   N|\n",
            "|R2TIO43ND87XVO|          5|            1|          1|   N|\n",
            "|R3CFYTUA9JI8B5|          5|            5|          6|   N|\n",
            "|R3MD5TZJGIPTDU|          5|           21|         31|   N|\n",
            "+--------------+-----------+-------------+-----------+----+\n",
            "only showing top 20 rows\n",
            "\n"
          ]
        }
      ]
    },
    {
      "cell_type": "code",
      "source": [
        "# Configuration for RDS instance\n",
        "mode=\"append\"\n",
        "jdbc_url = \"jdbc:postgresql://database-1.c1lahiassvlb.us-west-1.rds.amazonaws.com:5432/book_reviews\"\n",
        "config = {\"user\":\"postgres\",\n",
        "          \"password\": \"March594!\",\n",
        "          \"driver\":\"org.postgresql.Driver\"}"
      ],
      "metadata": {
        "id": "_u-ID_59IMAl"
      },
      "execution_count": 75,
      "outputs": []
    },
    {
      "cell_type": "code",
      "source": [
        "# Write DataFrame to review_id_df table in RDS\n",
        "\n",
        "review_id_df.write.jdbc(url=jdbc_url, table='review_id_table', mode=mode, properties=config)"
      ],
      "metadata": {
        "id": "Ry8xbadjKX0x"
      },
      "execution_count": 76,
      "outputs": []
    },
    {
      "cell_type": "code",
      "source": [
        "# Write DataFrame to products table in RDS\n",
        "\n",
        "products_df.write.jdbc(url=jdbc_url, table='products', mode=mode, properties=config)"
      ],
      "metadata": {
        "id": "Fbif4aH5KXxa"
      },
      "execution_count": 77,
      "outputs": []
    },
    {
      "cell_type": "code",
      "source": [
        "# Write DataFrame to customers table in RDS\n",
        "\n",
        "customers_df.write.jdbc(url=jdbc_url, table='customers', mode=mode, properties=config)"
      ],
      "metadata": {
        "id": "lsbwjpjwKXvB"
      },
      "execution_count": 78,
      "outputs": []
    },
    {
      "cell_type": "code",
      "source": [
        "# Write DataFrame to vine_table table in RDS\n",
        "\n",
        "vine_table_df.write.jdbc(url=jdbc_url, table='vine_table', mode=mode, properties=config)"
      ],
      "metadata": {
        "id": "ChhBoLO-KXso"
      },
      "execution_count": 79,
      "outputs": []
    },
    {
      "cell_type": "code",
      "source": [],
      "metadata": {
        "id": "XZyF9OTmKXmH"
      },
      "execution_count": null,
      "outputs": []
    }
  ]
}